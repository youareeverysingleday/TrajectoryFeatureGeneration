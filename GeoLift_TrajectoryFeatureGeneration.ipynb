{
 "cells": [
  {
   "cell_type": "markdown",
   "id": "72680939",
   "metadata": {},
   "source": [
    "# 生成轨迹特征"
   ]
  },
  {
   "cell_type": "code",
   "execution_count": 1,
   "id": "6b9a3fb2",
   "metadata": {},
   "outputs": [],
   "source": [
    "import transbigdata as tbd\n",
    "\n",
    "from Utils import CalcGrid, OperJson\n",
    "\n",
    "gParameters = OperJson.JSONConfig('./Parameters.json')\n",
    "# print(gParameters.get('gPreprocessDataSavePath'))\n",
    "# lon1, lat1, lon2, lat2\n",
    "gGeoParameters = tbd.area_to_params(location = gParameters.get('gBoundsBeijing'), \n",
    "                                    accuracy = gParameters.get('gAccuracy'), \n",
    "                                    method = gParameters.get('gMethod'))"
   ]
  },
  {
   "cell_type": "code",
   "execution_count": 2,
   "id": "34e6db84",
   "metadata": {},
   "outputs": [
    {
     "data": {
      "text/plain": [
       "34203"
      ]
     },
     "execution_count": 2,
     "metadata": {},
     "output_type": "execute_result"
    }
   ],
   "source": [
    "CG_Ellipsoid = CalcGrid.GridMapperEllipsoid(gParameters.get('gBoundsBeijing')[0], \n",
    "                         gParameters.get('gBoundsBeijing')[1], \n",
    "                         gParameters.get('gBoundsBeijing')[2],\n",
    "                         gParameters.get('gBoundsBeijing')[3],\n",
    "                         cell_size_m=1000)\n",
    "\n",
    "testgrid = CG_Ellipsoid.lonlat_to_grid(117.52, 41.05)\n",
    "testgrid"
   ]
  }
 ],
 "metadata": {
  "kernelspec": {
   "display_name": "Python 3",
   "language": "python",
   "name": "python3"
  },
  "language_info": {
   "codemirror_mode": {
    "name": "ipython",
    "version": 3
   },
   "file_extension": ".py",
   "mimetype": "text/x-python",
   "name": "python",
   "nbconvert_exporter": "python",
   "pygments_lexer": "ipython3",
   "version": "3.11.9"
  }
 },
 "nbformat": 4,
 "nbformat_minor": 5
}
