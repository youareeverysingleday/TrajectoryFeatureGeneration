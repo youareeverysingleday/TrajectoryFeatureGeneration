{
 "cells": [
  {
   "cell_type": "markdown",
   "id": "b1fc092e",
   "metadata": {},
   "source": [
    "# 经纬度转栅格"
   ]
  },
  {
   "cell_type": "code",
   "execution_count": 1,
   "id": "8421d0d6",
   "metadata": {},
   "outputs": [],
   "source": [
    "from Utils import CalcGrid, OperJson\n",
    "import transbigdata as tbd\n",
    "\n",
    "gParameters = OperJson.JSONConfig('./Parameters.json')\n",
    "gBoundsWuhan = gParameters.get('gBoundsWuhan')\n",
    "\n",
    "# print(gParameters.get('gPreprocessDataSavePath'))\n",
    "# lon1, lat1, lon2, lat2\n",
    "gGeoParameters = tbd.area_to_params(location = gBoundsWuhan, \n",
    "                                    accuracy = gParameters.get('gAccuracy'), \n",
    "                                    method = gParameters.get('gMethod'))"
   ]
  },
  {
   "cell_type": "code",
   "execution_count": null,
   "id": "a9210e30",
   "metadata": {},
   "outputs": [
    {
     "data": {
      "text/plain": [
       "27919"
      ]
     },
     "execution_count": 4,
     "metadata": {},
     "output_type": "execute_result"
    }
   ],
   "source": [
    "# [115.4, 39.4, 117.55, 41.1]\n",
    "# [113.68, 29.97, 115.08, 31.37]\n",
    "CG_WebMercator = CalcGrid.GridMapperWebMercator(gBoundsWuhan[0], \n",
    "                         gBoundsWuhan[1], \n",
    "                         gBoundsWuhan[2],\n",
    "                         gBoundsWuhan[3],\n",
    "                         grid_size_m=gParameters.get('gAccuracy'))\n",
    "\n",
    "testgrid = CG_WebMercator.latlon_to_grid(115.03, 31.35)\n",
    "testgrid"
   ]
  },
  {
   "cell_type": "code",
   "execution_count": 5,
   "id": "537f6b76",
   "metadata": {},
   "outputs": [
    {
     "data": {
      "text/plain": [
       "20345"
      ]
     },
     "execution_count": 5,
     "metadata": {},
     "output_type": "execute_result"
    }
   ],
   "source": [
    "CG_UTM = CalcGrid.GridMapperUTM(gBoundsWuhan[0], \n",
    "                         gBoundsWuhan[1], \n",
    "                         gBoundsWuhan[2],\n",
    "                         gBoundsWuhan[3],\n",
    "                         cell_size_m=gParameters.get('gAccuracy'))\n",
    "\n",
    "# testgrid = CG_UTM.lonlat_to_grid(117.52, 41.05)\n",
    "testgrid = CG_UTM.lonlat_to_grid(115.03, 31.35)\n",
    "testgrid"
   ]
  },
  {
   "cell_type": "code",
   "execution_count": 6,
   "id": "7baa3841",
   "metadata": {},
   "outputs": [
    {
     "data": {
      "text/plain": [
       "20276"
      ]
     },
     "execution_count": 6,
     "metadata": {},
     "output_type": "execute_result"
    }
   ],
   "source": [
    "CG_Ellipsoid = CalcGrid.GridMapperEllipsoid(gBoundsWuhan[0], \n",
    "                         gBoundsWuhan[1], \n",
    "                         gBoundsWuhan[2],\n",
    "                         gBoundsWuhan[3],\n",
    "                         cell_size_m=gParameters.get('gAccuracy'))\n",
    "\n",
    "# testgrid = CG_Ellipsoid.lonlat_to_grid(117.52, 41.05)\n",
    "testgrid = CG_Ellipsoid.lonlat_to_grid(115.03, 31.35)\n",
    "testgrid"
   ]
  },
  {
   "cell_type": "code",
   "execution_count": 7,
   "id": "fe3d33b0",
   "metadata": {},
   "outputs": [
    {
     "data": {
      "text/plain": [
       "(115.03132935565549, 31.345561597353324)"
      ]
     },
     "execution_count": 7,
     "metadata": {},
     "output_type": "execute_result"
    }
   ],
   "source": [
    "tlon, tlat = CG_Ellipsoid.grid_to_lonlat(testgrid)\n",
    "tlon, tlat"
   ]
  }
 ],
 "metadata": {
  "kernelspec": {
   "display_name": "Python 3",
   "language": "python",
   "name": "python3"
  },
  "language_info": {
   "codemirror_mode": {
    "name": "ipython",
    "version": 3
   },
   "file_extension": ".py",
   "mimetype": "text/x-python",
   "name": "python",
   "nbconvert_exporter": "python",
   "pygments_lexer": "ipython3",
   "version": "3.11.9"
  }
 },
 "nbformat": 4,
 "nbformat_minor": 5
}
